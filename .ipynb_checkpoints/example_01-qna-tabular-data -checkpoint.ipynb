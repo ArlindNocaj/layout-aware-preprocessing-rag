{
 "cells": [
  {
   "cell_type": "code",
   "execution_count": null,
   "id": "411a5f06-80df-4553-9abd-89d12e8bcb14",
   "metadata": {},
   "outputs": [],
   "source": [
    "* https://aws-samples.github.io/amazon-textract-textractor/notebooks/tabular_data_linearization_continued.html#"
   ]
  }
 ],
 "metadata": {
  "kernelspec": {
   "display_name": "Python 3 (ipykernel)",
   "language": "python",
   "name": "python3"
  },
  "language_info": {
   "codemirror_mode": {
    "name": "ipython",
    "version": 3
   },
   "file_extension": ".py",
   "mimetype": "text/x-python",
   "name": "python",
   "nbconvert_exporter": "python",
   "pygments_lexer": "ipython3",
   "version": "3.10.14"
  }
 },
 "nbformat": 4,
 "nbformat_minor": 5
}
